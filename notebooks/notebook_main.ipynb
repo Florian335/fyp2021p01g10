{
 "cells": [
  {
   "cell_type": "markdown",
   "metadata": {},
   "source": [
    "# Group 10 - First Year Project \n",
    "### Data Science at ITU \n",
    "## Project 1 - Road collisions analysis 2021 "
   ]
  },
  {
   "cell_type": "markdown",
   "metadata": {},
   "source": [
    "The first project of Data Science's second semester required us to inform various city leaders around the United Kingdom about traffic fatalities and injuries; and give some insight for urban transport planning. This jupyter notebook presents Group 10's exploration of 2019 UK road collision data with complimentary analysis, visualisation and findings with relation to the city of Sheffield.\n"
   ]
  },
  {
   "cell_type": "markdown",
   "metadata": {},
   "source": [
    "# Task 0 - Data filtering and cleaning\n",
    "## Loading data\n",
    "Our first task invovles loading our 3 csv files (downloaded from https://data.gov.uk/dataset/road-accidents-safety-data on the 4th January 2021) into a traversable data structure we can start working with; such as a dictionary. We will then need to start the process of filtering and cleaning our data."
   ]
  },
  {
   "cell_type": "code",
   "execution_count": 6,
   "metadata": {},
   "outputs": [],
   "source": [
    "import numpy as np\n",
    "import pandas as pd"
   ]
  },
  {
   "cell_type": "code",
   "execution_count": 7,
   "metadata": {},
   "outputs": [],
   "source": [
    "raw_data = {}\n",
    "\n",
    "TITLES = ['accidents', 'casualties', 'vehicles'] # Capitalisation is the standard for constants"
   ]
  },
  {
   "cell_type": "markdown",
   "metadata": {},
   "source": [
    "Pandas has a convinient method for reading in csv files and storing the data in a DataFrame structure offers flexibility."
   ]
  },
  {
   "cell_type": "code",
<<<<<<< Updated upstream
   "execution_count": 51,
   "metadata": {},
   "outputs": [],
=======
   "execution_count": 8,
   "metadata": {},
   "outputs": [
    {
     "name": "stderr",
     "output_type": "stream",
     "text": [
      "C:\\Users\\flori\\anaconda3\\lib\\site-packages\\IPython\\core\\interactiveshell.py:3071: DtypeWarning: Columns (0,31) have mixed types.Specify dtype option on import or set low_memory=False.\n",
      "  has_raised = await self.run_ast_nodes(code_ast.body, cell_name,\n",
      "C:\\Users\\flori\\anaconda3\\lib\\site-packages\\IPython\\core\\interactiveshell.py:3071: DtypeWarning: Columns (0) have mixed types.Specify dtype option on import or set low_memory=False.\n",
      "  has_raised = await self.run_ast_nodes(code_ast.body, cell_name,\n"
     ]
    }
   ],
>>>>>>> Stashed changes
   "source": [
    "raw_data['accidents'] = pd.read_csv(\"../data/raw/Road Safety Data - Accidents 2019.csv\", dtype = None)\n",
    "raw_data['casualties'] = pd.read_csv(\"../data/raw/Road Safety Data - Casualties 2019.csv\", dtype = None)\n",
    "raw_data['vehicles'] = pd.read_csv(\"../data/raw/Road Safety Data- Vehicles 2019.csv\", dtype = None) # File name missing a space before hyphen "
   ]
  },
  {
   "cell_type": "code",
   "execution_count": 9,
   "metadata": {},
   "outputs": [
    {
     "name": "stdout",
     "output_type": "stream",
     "text": [
      "accidents\tDataFrame shape: (117536, 32)\n",
      "casualties\tDataFrame shape: (153158, 16)\n",
      "vehicles\tDataFrame shape: (216381, 23)\n"
     ]
    }
   ],
   "source": [
    "for TITLE in TITLES:\n",
    "    print(TITLE + \"\\tDataFrame shape: \" + str(raw_data[TITLE].shape))"
   ]
  },
  {
   "cell_type": "markdown",
   "metadata": {},
   "source": [
    " ### Data type insight?"
   ]
  },
  {
   "cell_type": "code",
   "execution_count": 10,
   "metadata": {},
   "outputs": [],
   "source": [
    "#todo #DO IT FASTER"
   ]
  },
  {
   "cell_type": "markdown",
   "metadata": {},
   "source": [
    "## Locating our city\n",
    "With our data loaded into a dictionary of DataFrames, we needed to locate the accidents that occured in Sheffield. To do this we made a mask identifying which accidents occured in the local district authority 215.\n"
   ]
  },
  {
   "cell_type": "code",
   "execution_count": 11,
   "metadata": {},
   "outputs": [],
   "source": [
    "sheffield_mask = (raw_data['accidents'][\"Local_Authority_(District)\"] == 215)"
   ]
  },
  {
   "cell_type": "code",
   "execution_count": 12,
   "metadata": {},
   "outputs": [
    {
     "data": {
      "text/html": [
       "<div>\n",
       "<style scoped>\n",
       "    .dataframe tbody tr th:only-of-type {\n",
       "        vertical-align: middle;\n",
       "    }\n",
       "\n",
       "    .dataframe tbody tr th {\n",
       "        vertical-align: top;\n",
       "    }\n",
       "\n",
       "    .dataframe thead th {\n",
       "        text-align: right;\n",
       "    }\n",
       "</style>\n",
       "<table border=\"1\" class=\"dataframe\">\n",
       "  <thead>\n",
       "    <tr style=\"text-align: right;\">\n",
       "      <th></th>\n",
       "      <th>Accident_Index</th>\n",
       "      <th>Location_Easting_OSGR</th>\n",
       "      <th>Location_Northing_OSGR</th>\n",
       "      <th>Longitude</th>\n",
       "      <th>Latitude</th>\n",
       "      <th>Police_Force</th>\n",
       "      <th>Accident_Severity</th>\n",
       "      <th>Number_of_Vehicles</th>\n",
       "      <th>Number_of_Casualties</th>\n",
       "      <th>Date</th>\n",
       "      <th>...</th>\n",
       "      <th>Pedestrian_Crossing-Human_Control</th>\n",
       "      <th>Pedestrian_Crossing-Physical_Facilities</th>\n",
       "      <th>Light_Conditions</th>\n",
       "      <th>Weather_Conditions</th>\n",
       "      <th>Road_Surface_Conditions</th>\n",
       "      <th>Special_Conditions_at_Site</th>\n",
       "      <th>Carriageway_Hazards</th>\n",
       "      <th>Urban_or_Rural_Area</th>\n",
       "      <th>Did_Police_Officer_Attend_Scene_of_Accident</th>\n",
       "      <th>LSOA_of_Accident_Location</th>\n",
       "    </tr>\n",
       "  </thead>\n",
       "  <tbody>\n",
       "    <tr>\n",
       "      <th>44673</th>\n",
       "      <td>2019140805407</td>\n",
       "      <td>429140.0</td>\n",
       "      <td>381931.0</td>\n",
       "      <td>-1.563884</td>\n",
       "      <td>53.333509</td>\n",
       "      <td>14</td>\n",
       "      <td>2</td>\n",
       "      <td>2</td>\n",
       "      <td>1</td>\n",
       "      <td>01/01/2019</td>\n",
       "      <td>...</td>\n",
       "      <td>0</td>\n",
       "      <td>0</td>\n",
       "      <td>1</td>\n",
       "      <td>1</td>\n",
       "      <td>2</td>\n",
       "      <td>0</td>\n",
       "      <td>0</td>\n",
       "      <td>2</td>\n",
       "      <td>1</td>\n",
       "      <td>E01007926</td>\n",
       "    </tr>\n",
       "    <tr>\n",
       "      <th>44674</th>\n",
       "      <td>2019140805409</td>\n",
       "      <td>434290.0</td>\n",
       "      <td>385121.0</td>\n",
       "      <td>-1.486208</td>\n",
       "      <td>53.361875</td>\n",
       "      <td>14</td>\n",
       "      <td>3</td>\n",
       "      <td>2</td>\n",
       "      <td>1</td>\n",
       "      <td>01/01/2019</td>\n",
       "      <td>...</td>\n",
       "      <td>0</td>\n",
       "      <td>0</td>\n",
       "      <td>4</td>\n",
       "      <td>1</td>\n",
       "      <td>1</td>\n",
       "      <td>0</td>\n",
       "      <td>0</td>\n",
       "      <td>1</td>\n",
       "      <td>1</td>\n",
       "      <td>E01008052</td>\n",
       "    </tr>\n",
       "    <tr>\n",
       "      <th>44676</th>\n",
       "      <td>2019140805414</td>\n",
       "      <td>435393.0</td>\n",
       "      <td>391745.0</td>\n",
       "      <td>-1.468895</td>\n",
       "      <td>53.421340</td>\n",
       "      <td>14</td>\n",
       "      <td>1</td>\n",
       "      <td>1</td>\n",
       "      <td>1</td>\n",
       "      <td>01/01/2019</td>\n",
       "      <td>...</td>\n",
       "      <td>0</td>\n",
       "      <td>1</td>\n",
       "      <td>4</td>\n",
       "      <td>1</td>\n",
       "      <td>1</td>\n",
       "      <td>0</td>\n",
       "      <td>0</td>\n",
       "      <td>1</td>\n",
       "      <td>1</td>\n",
       "      <td>E01008123</td>\n",
       "    </tr>\n",
       "    <tr>\n",
       "      <th>44677</th>\n",
       "      <td>2019140805567</td>\n",
       "      <td>433949.0</td>\n",
       "      <td>396778.0</td>\n",
       "      <td>-1.490081</td>\n",
       "      <td>53.466672</td>\n",
       "      <td>14</td>\n",
       "      <td>2</td>\n",
       "      <td>2</td>\n",
       "      <td>1</td>\n",
       "      <td>01/01/2019</td>\n",
       "      <td>...</td>\n",
       "      <td>0</td>\n",
       "      <td>0</td>\n",
       "      <td>1</td>\n",
       "      <td>1</td>\n",
       "      <td>1</td>\n",
       "      <td>0</td>\n",
       "      <td>0</td>\n",
       "      <td>1</td>\n",
       "      <td>1</td>\n",
       "      <td>E01007901</td>\n",
       "    </tr>\n",
       "    <tr>\n",
       "      <th>44680</th>\n",
       "      <td>2019140805955</td>\n",
       "      <td>433662.0</td>\n",
       "      <td>389819.0</td>\n",
       "      <td>-1.495146</td>\n",
       "      <td>53.404142</td>\n",
       "      <td>14</td>\n",
       "      <td>3</td>\n",
       "      <td>2</td>\n",
       "      <td>1</td>\n",
       "      <td>03/01/2019</td>\n",
       "      <td>...</td>\n",
       "      <td>0</td>\n",
       "      <td>0</td>\n",
       "      <td>1</td>\n",
       "      <td>1</td>\n",
       "      <td>1</td>\n",
       "      <td>0</td>\n",
       "      <td>0</td>\n",
       "      <td>1</td>\n",
       "      <td>2</td>\n",
       "      <td>E01008093</td>\n",
       "    </tr>\n",
       "  </tbody>\n",
       "</table>\n",
       "<p>5 rows × 32 columns</p>\n",
       "</div>"
      ],
      "text/plain": [
       "      Accident_Index  Location_Easting_OSGR  Location_Northing_OSGR  \\\n",
       "44673  2019140805407               429140.0                381931.0   \n",
       "44674  2019140805409               434290.0                385121.0   \n",
       "44676  2019140805414               435393.0                391745.0   \n",
       "44677  2019140805567               433949.0                396778.0   \n",
       "44680  2019140805955               433662.0                389819.0   \n",
       "\n",
       "       Longitude   Latitude  Police_Force  Accident_Severity  \\\n",
       "44673  -1.563884  53.333509            14                  2   \n",
       "44674  -1.486208  53.361875            14                  3   \n",
       "44676  -1.468895  53.421340            14                  1   \n",
       "44677  -1.490081  53.466672            14                  2   \n",
       "44680  -1.495146  53.404142            14                  3   \n",
       "\n",
       "       Number_of_Vehicles  Number_of_Casualties        Date  ...  \\\n",
       "44673                   2                     1  01/01/2019  ...   \n",
       "44674                   2                     1  01/01/2019  ...   \n",
       "44676                   1                     1  01/01/2019  ...   \n",
       "44677                   2                     1  01/01/2019  ...   \n",
       "44680                   2                     1  03/01/2019  ...   \n",
       "\n",
       "       Pedestrian_Crossing-Human_Control  \\\n",
       "44673                                  0   \n",
       "44674                                  0   \n",
       "44676                                  0   \n",
       "44677                                  0   \n",
       "44680                                  0   \n",
       "\n",
       "      Pedestrian_Crossing-Physical_Facilities  Light_Conditions  \\\n",
       "44673                                       0                 1   \n",
       "44674                                       0                 4   \n",
       "44676                                       1                 4   \n",
       "44677                                       0                 1   \n",
       "44680                                       0                 1   \n",
       "\n",
       "      Weather_Conditions  Road_Surface_Conditions  Special_Conditions_at_Site  \\\n",
       "44673                  1                        2                           0   \n",
       "44674                  1                        1                           0   \n",
       "44676                  1                        1                           0   \n",
       "44677                  1                        1                           0   \n",
       "44680                  1                        1                           0   \n",
       "\n",
       "       Carriageway_Hazards  Urban_or_Rural_Area  \\\n",
       "44673                    0                    2   \n",
       "44674                    0                    1   \n",
       "44676                    0                    1   \n",
       "44677                    0                    1   \n",
       "44680                    0                    1   \n",
       "\n",
       "       Did_Police_Officer_Attend_Scene_of_Accident  LSOA_of_Accident_Location  \n",
       "44673                                            1                  E01007926  \n",
       "44674                                            1                  E01008052  \n",
       "44676                                            1                  E01008123  \n",
       "44677                                            1                  E01007901  \n",
       "44680                                            2                  E01008093  \n",
       "\n",
       "[5 rows x 32 columns]"
      ]
     },
     "execution_count": 12,
     "metadata": {},
     "output_type": "execute_result"
    }
   ],
   "source": [
    "sheffield_data = {}\n",
    "\n",
    "sheffield_data['accidents'] = raw_data['accidents'][sheffield_mask]\n",
    "sheffield_data['accidents'][:5]"
   ]
  },
  {
   "cell_type": "code",
   "execution_count": 13,
   "metadata": {},
   "outputs": [
    {
     "data": {
      "text/plain": [
       "(909, 32)"
      ]
     },
     "execution_count": 13,
     "metadata": {},
     "output_type": "execute_result"
    }
   ],
   "source": [
    "sheffield_data['accidents'].shape"
   ]
  },
  {
   "cell_type": "markdown",
   "metadata": {},
   "source": [
    "We can now see that there are 909 records of road traffic accidents occuring in Sheffield over 2019. The next step was using the primary key (accident_index) of the accidents to find the accidents in Sheffield that each casualty and vehicle linked to, in order to complete our sheffield_data dictionary."
   ]
  },
  {
   "cell_type": "code",
   "execution_count": 14,
   "metadata": {},
   "outputs": [
    {
     "data": {
      "text/plain": [
       "44673    2019140805407\n",
       "44674    2019140805409\n",
       "44676    2019140805414\n",
       "44677    2019140805567\n",
       "44680    2019140805955\n",
       "Name: Accident_Index, dtype: object"
      ]
     },
     "execution_count": 14,
     "metadata": {},
     "output_type": "execute_result"
    }
   ],
   "source": [
    "sheffield_data['accidents'][\"Accident_Index\"][:5]"
   ]
  },
  {
   "cell_type": "code",
   "execution_count": 15,
   "metadata": {},
   "outputs": [],
   "source": [
    "for TITLE in TITLES[1:]: sheffield_data[TITLE] = raw_data[TITLE][raw_data[TITLE]['Accident_Index'].isin(sheffield_data[\"accidents\"][\"Accident_Index\"])]"
   ]
  },
  {
   "cell_type": "code",
   "execution_count": 16,
   "metadata": {},
   "outputs": [
    {
     "name": "stdout",
     "output_type": "stream",
     "text": [
      "Sheffield accidents\tDataFrame shape: (909, 32)\n",
      "Sheffield casualties\tDataFrame shape: (1191, 16)\n",
      "Sheffield vehicles\tDataFrame shape: (1648, 23)\n"
     ]
    }
   ],
   "source": [
    "for TITLE in TITLES: print(\"Sheffield \" + TITLE + \"\\tDataFrame shape: \" + str(sheffield_data[TITLE].shape))"
   ]
  },
  {
   "cell_type": "markdown",
   "metadata": {},
   "source": [
    "## Relational data table model \n",
    "In terms of the structure of the three databases or data tables, the accidents table's primary key is used as a foreign key by both the casualties and vehicles data tables, creating a one-to-many link between the accidents and both the casualties and vehicles tables. From this data table structure, we can infer that multiple casualties and vehicles can be involved in a single accident; which makes sense logically."
   ]
  },
  {
   "cell_type": "markdown",
   "metadata": {},
   "source": [
    "## Sanity check\n",
    "Performing a sanity check on our Sheffield road accident data is a critical first step before we can begin to think about further analysing or drawing conclusions from the data. We may also have to sanity check all the data if we wish to draw conclusions therefrom."
   ]
  },
  {
   "cell_type": "code",
   "execution_count": 17,
   "metadata": {},
   "outputs": [],
   "source": [
    "#Check for empty strings in categorical fields  \n",
    "#Check for NULL values                          #DONE more efficient method probably possible with michaels method (command line)\n",
    "#Check duplicate records                        #DONE\n",
    "#Check non-linked records in secondary tables   "
   ]
  },
  {
   "cell_type": "markdown",
   "metadata": {},
   "source": [
    "### Checking for null values in our road accident dataset"
   ]
  },
  {
   "cell_type": "code",
   "execution_count": 18,
   "metadata": {},
   "outputs": [
    {
     "name": "stdout",
     "output_type": "stream",
     "text": [
      "accidents - Location_Easting_OSGR\t has 28 null values\n",
      "accidents - Location_Northing_OSGR\t has 28 null values\n",
      "accidents - Longitude\t has 28 null values\n",
      "accidents - Latitude\t has 28 null values\n",
      "accidents - Time\t has 63 null values\n",
      "accidents - LSOA_of_Accident_Location\t has 5714 null values\n"
     ]
    }
   ],
   "source": [
    "flag = False\n",
    "for TITLE in TITLES:\n",
    "    if raw_data[TITLE].isnull().values.any():\n",
    "        for column in list(raw_data[TITLE].columns):\n",
    "            nulls = sum(raw_data[TITLE][column].isnull())\n",
    "            if sum(raw_data[TITLE][column].isnull()):\n",
    "                print(TITLE + \" - \" + column + \"\\t has \" + str(nulls) + \" null values\")\n",
    "                flag = True\n",
    "if not flag: print(\"There are no null values in the dataset\")"
   ]
  },
  {
   "cell_type": "markdown",
   "metadata": {},
   "source": [
    "### Checking for null values in our sheffield dataset"
   ]
  },
  {
   "cell_type": "code",
   "execution_count": 19,
   "metadata": {},
   "outputs": [
    {
     "name": "stdout",
     "output_type": "stream",
     "text": [
      "There are no null values in the dataset\n"
     ]
    }
   ],
   "source": [
    "flag = False\n",
    "for TITLE in TITLES:\n",
    "    if sheffield_data[TITLE].isnull().values.any():\n",
    "        for column in list(sheffield_data[TITLE].columns):\n",
    "            nulls = sum(sheffield_data[TITLE][column].isnull())\n",
    "            if sum(sheffield_data[TITLE][column].isnull()):\n",
    "                print(TITLE + \" - \" + column + \"\\t has \" + str(nulls) + \" null values\")\n",
    "                flag = True\n",
    "if not flag: print(\"There are no null values in the dataset\")"
   ]
  },
  {
   "cell_type": "code",
   "execution_count": 20,
   "metadata": {},
   "outputs": [
    {
     "name": "stdout",
     "output_type": "stream",
     "text": [
      "No repeated indexes\n"
     ]
    }
   ],
   "source": [
    "if len(sheffield_data[\"accidents\"][\"Accident_Index\"]) == len((sheffield_data[\"accidents\"][\"Accident_Index\"].unique())):\n",
    "    print(\"No repeated indexes\")\n",
    "else: print(\"Repeated indexes detected\")"
   ]
  },
  {
   "cell_type": "markdown",
   "metadata": {},
   "source": [
    "## Numerical summary"
   ]
  },
  {
   "cell_type": "code",
   "execution_count": 21,
   "metadata": {},
   "outputs": [],
   "source": [
    "import matplotlib.pyplot as plt"
   ]
  },
  {
   "cell_type": "code",
   "execution_count": 22,
   "metadata": {},
   "outputs": [],
   "source": [
    "#Five Number Summary"
   ]
  },
  {
   "cell_type": "code",
   "execution_count": 23,
   "metadata": {},
   "outputs": [],
   "source": [
    "#Box Plots"
   ]
  },
  {
   "cell_type": "code",
   "execution_count": 24,
   "metadata": {},
   "outputs": [
    {
     "data": {
      "text/plain": [
       "[]"
      ]
     },
     "execution_count": 24,
     "metadata": {},
     "output_type": "execute_result"
    },
    {
     "data": {
      "image/png": "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\n",
      "text/plain": [
       "<Figure size 1080x720 with 4 Axes>"
      ]
     },
     "metadata": {
      "needs_background": "light"
     },
     "output_type": "display_data"
    }
   ],
   "source": [
    "#Frequency Histogram\n",
    "fig, ax = plt.subplots(2, 2, figsize=(15, 10))\n",
    "mask = (sheffield_data[\"vehicles\"][\"Age_of_Driver\"] >=0)\n",
    "sheffield_data[\"accidents\"][\"Number_of_Vehicles\"].hist(ax=ax[0,0], bins=20, bottom=0.1)\n",
    "sheffield_data[\"accidents\"][\"Speed_limit\"].hist(ax=ax[1,1], bins=7);\n",
    "sheffield_data[\"accidents\"][\"Number_of_Casualties\"].hist(ax=ax[0,1], bins=20, bottom=0.1)\n",
    "sheffield_data[\"vehicles\"][\"Age_of_Driver\"][mask].hist(ax=ax[1,0], bins=50, bottom=0.1)\n",
    "\n",
    "ax[0,0].set_title('Histogram over Number of Vehicles in an accident')\n",
    "ax[1,1].set_title('Histogram over Speed Limit in an accident')\n",
    "ax[0,1].set_title('Histogram over Number of Casualties in an accident')\n",
    "ax[1,0].set_title('Histogram over Age of Driver in an accident')\n",
    "\n",
    "ax[0,0].set_ylabel('Frequency')\n",
    "ax[1,0].set_ylabel('Frequency')\n",
    "ax[0,1].set_ylabel('Frequency')\n",
    "ax[1,1].set_ylabel('Frequency')\n",
    "\n",
    "ax[0,0].set_xlabel('Amount of vehicles')\n",
    "ax[1,1].set_xlabel('Speed Limit')\n",
    "ax[0,1].set_xlabel('Number of Casualties')\n",
    "ax[1,0].set_xlabel('Age of Driver')\n",
    "\n",
    "ax[0,0].set_yscale('log')\n",
    "ax[1,1].set_yscale('log')\n",
    "ax[0,1].set_yscale('log')\n",
    "ax[1,0].set_yscale('log')\n",
    "plt.plot()"
   ]
  },
  {
   "cell_type": "code",
   "execution_count": 25,
   "metadata": {},
   "outputs": [
    {
     "data": {
      "image/png": "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\n",
      "text/plain": [
       "<Figure size 1080x1080 with 6 Axes>"
      ]
     },
     "metadata": {
      "needs_background": "light"
     },
     "output_type": "display_data"
    }
   ],
   "source": [
    "AS_count = sheffield_data[\"accidents\"][\"Accident_Severity\"].value_counts()\n",
    "AS_unq = sheffield_data[\"accidents\"][\"Accident_Severity\"].unique()\n",
    "\n",
    "\n",
    "RT = sheffield_data[\"accidents\"][\"Road_Type\"][(sheffield_data[\"accidents\"][\"Road_Type\"] >0)]\n",
    "RT_count = RT.value_counts()\n",
    "RT_unq = [1,2,3,4,5,6]\n",
    "\n",
    "sex = sheffield_data[\"vehicles\"][\"Sex_of_Driver\"][(sheffield_data[\"vehicles\"][\"Sex_of_Driver\"] >0)]\n",
    "sex_counts = sex.value_counts()\n",
    "sex_unq = sex.unique()\n",
    "\n",
    "CC_counts = sheffield_data[\"casualties\"][\"Casualty_Class\"].value_counts()\n",
    "CC_unq = sheffield_data[\"casualties\"][\"Casualty_Class\"].unique()\n",
    "\n",
    "weekday_counts = sheffield_data[\"accidents\"][\"Day_of_Week\"].value_counts()\n",
    "weekday_unq = sheffield_data[\"accidents\"][\"Day_of_Week\"].unique()\n",
    "fig, ax = plt.subplots(3, 2, figsize=(15, 15))\n",
    "\n",
    "ax[0,0].set_title(\"Accident Severity Frequency Barplot\")\n",
    "ax[0,0].set_ylabel(\"Frequency\")\n",
    "ax[0,0].bar(sorted(AS_unq), sorted(AS_count), tick_label = [\"Fatal\", \"Serious\", \"Slight\"])\n",
    "\n",
    "ax[1,0].set_title(\"Road Type Frequency Barplot\")\n",
    "ax[1,0].set_ylabel(\"Road Type\")\n",
    "ax[1,0].set_xlabel(\"Frequency\")\n",
    "l = [\"Roundabout\", \"One way street\", \"Dual carriageway\",\"Single carriageway\", \"Slip road\", \"Unknown\"]  \n",
    "ax[1,0].barh(sorted(RT_unq), sorted(RT_count), tick_label = l)\n",
    "\n",
    "                                                                                                                        \n",
    "\n",
    "\n",
    "ax[0,1].set_title(\"Sex Frequency Barplot\")\n",
    "ax[0,1].set_ylabel(\"Frequency\")\n",
    "ax[0,1].bar(sorted(sex_unq), sex_counts, tick_label = [\"Male\",\"Female\",\"Not Known\"])\n",
    "\n",
    "\n",
    "ax[1,1].set_title(\"Casualty Class Frequency Barplot\")\n",
    "ax[1,1].set_ylabel(\"Frequency\")\n",
    "ax[1,1].bar(sorted(CC_unq), CC_counts, tick_label = [\"Driver or rider\", \"Passenger\", \"Pedestrian\"])\n",
    "\n",
    "\n",
    "ax[2,0].set_title(\"Weekday Frequency Barplot\")\n",
    "ax[2,0].set_ylabel(\"Frequency\")\n",
    "ax[2,0].bar(sorted(weekday_unq), weekday_counts, tick_label = [\"Monday\", \"Tuesday\", \"Wednesday\",\"Thursday\", \"Friday\",\"Saturday\", \"Sunday\"])\n",
    "\n",
    "plt.plot();"
   ]
  },
  {
   "cell_type": "markdown",
   "metadata": {},
   "source": [
    "# Task 1 - Single variable analysis\n",
    "### Report the frequency of road collisions in your city for \n",
    "\n",
    "1. different age groups \n",
    "2. in different times (during the day, the week, or year)\n",
    "3. and for differences in one other condition.\n"
   ]
  },
  {
   "cell_type": "markdown",
   "metadata": {},
   "source": [
    "#### Different age groups"
   ]
  },
  {
   "cell_type": "code",
   "execution_count": 33,
   "metadata": {},
   "outputs": [
    {
     "data": {
      "image/png": "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\n",
      "text/plain": [
       "<Figure size 1080x360 with 1 Axes>"
      ]
     },
     "metadata": {
      "needs_background": "light"
     },
     "output_type": "display_data"
    }
   ],
   "source": [
    "mask_age = (sheffield_data[\"vehicles\"][\"Age_of_Driver\"] >= 0)\n",
    "AoD = sheffield_data[\"vehicles\"][\"Age_of_Driver\"][mask_age]\n",
    "\n",
    "\n",
    "l = []\n",
    "mask = (sheffield_data[\"vehicles\"][\"Age_of_Driver\"] <20)\n",
    "\n",
    "l.append(AoD[mask].shape[0])\n",
    "mask = (sheffield_data[\"vehicles\"][\"Age_of_Driver\"] >20) & (sheffield_data[\"vehicles\"][\"Age_of_Driver\"] <40)\n",
    "l.append(AoD[mask].shape[0])\n",
    "mask = (sheffield_data[\"vehicles\"][\"Age_of_Driver\"] >40) & (sheffield_data[\"vehicles\"][\"Age_of_Driver\"] <60)\n",
    "l.append(AoD[mask].shape[0])\n",
    "mask = (sheffield_data[\"vehicles\"][\"Age_of_Driver\"] >60) & (sheffield_data[\"vehicles\"][\"Age_of_Driver\"] <80)\n",
    "l.append(AoD[mask].shape[0])\n",
    "mask = (sheffield_data[\"vehicles\"][\"Age_of_Driver\"] >80)\n",
    "l.append(AoD[mask].shape[0])\n",
    "\n",
    "fig = plt.figure(figsize=(15,5))\n",
    "axes = fig.add_axes([0,0,1,1])\n",
    "axes.set_title(\"Frequency of road collisions in Sheffield for different age groups\")\n",
    "axes.set_ylabel(\"Frequency\")\n",
    "interval = [\"<20\",'20-40', '40-60', '60-80', '80+']\n",
    "axes.bar(interval, l,color = 'silver',edgecolor = 'black');"
   ]
  },
  {
   "cell_type": "markdown",
   "metadata": {},
   "source": [
    "#### Different times"
   ]
  },
  {
   "cell_type": "markdown",
   "metadata": {},
   "source": [
    "##### Day"
   ]
  },
  {
   "cell_type": "code",
   "execution_count": 38,
   "metadata": {
    "code_folding": [
     0
    ]
   },
   "outputs": [
    {
     "data": {
      "image/png": "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\n",
      "text/plain": [
       "<Figure size 1080x360 with 1 Axes>"
      ]
     },
     "metadata": {
      "needs_background": "light"
     },
     "output_type": "display_data"
    }
   ],
   "source": [
    "l = [['00:00', '02:00'], \n",
    "     ['02:00', '04:00'], \n",
    "     ['04:00', '06:00'], \n",
    "     ['06:00', '08:00'], \n",
    "     ['08:00', '10:00'], \n",
    "     ['10:00', '12:00'],\n",
    "     ['12:00', '14:00'], \n",
    "     ['14:00', '16:00'], \n",
    "     ['16:00', '18:00'], \n",
    "     ['18:00', '20:00'], \n",
    "     ['20:00', '22:00'],\n",
    "     ['22:00', '24:00']]\n",
    "\n",
    "empty = []\n",
    "for i in range(0,12):\n",
    "    mask = (sheffield_data[\"accidents\"][\"Time\"] < l[i][1]) & (sheffield_data[\"accidents\"][\"Time\"] > l[i][0])\n",
    "    total = len(sheffield_data[\"accidents\"][mask][\"Time\"])\n",
    "    empty.append(total)\n",
    "    \n",
    "fig = plt.figure(figsize=(15,5))\n",
    "axes = fig.add_axes([0,0,1,1])\n",
    "axes.set_title(\"Frequency of road collisions in Sheffield in a 2 hour interval\")\n",
    "axes.set_ylabel(\"Frequency\")\n",
    "interval = [\"00:00-02:00\",'02:00-04:00', '04:00-06:00', '06:00-08:00', '08:00-10:00', '10:00-12:00',\n",
    "                 '12:00-14:00','14:00-16:00', '16:00-18:00', '18:00-20:00', '20:00-22:00', '22:00-24:00']\n",
    "axes.bar(interval, empty,color = 'silver',edgecolor = 'black');\n",
    "for index,value in enumerate(empty):\n",
    "    axes.text(index - 0.015, value + 0.05,str(value),ha='center', va='bottom')"
   ]
  },
  {
   "cell_type": "markdown",
   "metadata": {},
   "source": [
    "##### Week"
   ]
  },
  {
   "cell_type": "code",
   "execution_count": 41,
   "metadata": {},
   "outputs": [
    {
     "data": {
      "image/png": "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\n",
      "text/plain": [
       "<Figure size 576x360 with 1 Axes>"
      ]
     },
     "metadata": {
      "needs_background": "light"
     },
     "output_type": "display_data"
    }
   ],
   "source": [
    "week = [\"Monday\", \"Tuesday\", \"Wednesday\",\"Thursday\",\"Friday\", \"Saturday\", \"Sunday\"]\n",
    "unq = sheffield_data[\"accidents\"][\"Day_of_Week\"].unique()\n",
    "count = sheffield_data[\"accidents\"][\"Day_of_Week\"].value_counts()\n",
    "fig = plt.figure(figsize=(8, 5))\n",
    "axes = fig.add_axes([0, 0, 1, 1])\n",
    "axes.set_title(\"Accidents each day from 01/01/2019 to 31/12/2019 in Sheffield\")\n",
    "axes.set_ylabel(\"Total number of accidents\")\n",
    "axes.bar(sorted(unq), count, tick_label = week,color = 'silver',edgecolor = 'black')\n",
    "plt.plot();\n"
   ]
  },
  {
   "cell_type": "markdown",
   "metadata": {},
   "source": [
    "##### Year"
   ]
  },
  {
   "cell_type": "code",
   "execution_count": null,
   "metadata": {},
   "outputs": [],
   "source": [
    "#Total number of accidents per month Florian"
   ]
  },
  {
   "cell_type": "markdown",
   "metadata": {},
   "source": [
    "##### Monthly Accident Severity"
   ]
  },
  {
   "cell_type": "code",
   "execution_count": 30,
   "metadata": {},
   "outputs": [
    {
     "data": {
      "image/png": "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\n",
      "text/plain": [
       "<Figure size 1152x288 with 1 Axes>"
      ]
     },
     "metadata": {
      "needs_background": "light"
     },
     "output_type": "display_data"
    }
   ],
   "source": [
    "accident_severity = sheffield_data['accidents']['Accident_Severity']\n",
    "accident_dates = pd.to_datetime(sheffield_data['accidents']['Date'])\n",
    "#accident_severity.groupby(accident_dates.dt.month).count().plot(kind=\"bar\")\n",
    "a = accident_severity.groupby(accident_dates.dt.month)\n",
    "a1 = a.value_counts()\n",
    "\n",
    "fig,ax = plt.subplots(figsize = (16,4))\n",
    "a1.plot.bar(color = 'silver',edgecolor = 'black')\n",
    "ax.set_title('Monthly Accident Severity')\n",
    "ax.set_xlabel('(Month,Accident_Severity)')\n",
    "ax.set_ylabel('Number of Accidents')\n",
    "ax.legend(loc = \"upper left\")\n",
    "for index,value in enumerate(a1):\n",
    "    ax.text(index - 0.015, value + 0.05,str(value),ha='center', va='bottom')"
   ]
  },
  {
   "cell_type": "markdown",
   "metadata": {},
   "source": [
    "##### Number of Daily Accidents"
   ]
  },
  {
   "cell_type": "code",
   "execution_count": 49,
   "metadata": {},
   "outputs": [
    {
     "data": {
      "text/plain": [
       "2019-12-13    8\n",
       "2019-12-17    6\n",
       "2019-12-10    5\n",
       "2019-12-09    5\n",
       "2019-12-30    4\n",
       "2019-12-07    4\n",
       "2019-12-20    4\n",
       "2019-12-15    4\n",
       "2019-12-16    3\n",
       "2019-12-06    3\n",
       "2019-12-24    3\n",
       "2019-12-03    3\n",
       "2019-12-04    3\n",
       "2019-12-22    3\n",
       "2019-12-18    2\n",
       "2019-12-08    2\n",
       "2019-12-11    2\n",
       "2019-12-05    2\n",
       "2019-12-12    2\n",
       "2019-12-31    2\n",
       "2019-12-19    2\n",
       "2019-12-02    2\n",
       "2019-12-21    2\n",
       "2019-12-29    1\n",
       "2019-12-27    1\n",
       "2019-12-14    1\n",
       "2019-12-25    1\n",
       "2019-12-28    1\n",
       "2019-12-23    1\n",
       "Name: Date, dtype: int64"
      ]
     },
     "execution_count": 49,
     "metadata": {},
     "output_type": "execute_result"
    }
   ],
   "source": [
    "#COUNTING THE ACCIDENTS EACH DAY IN EVERY MONTH\n",
    "\n",
    "accident_severity = sheffield_data['accidents']['Accident_Severity']\n",
    "\n",
    "accident_dates = pd.to_datetime(sheffield_data['accidents']['Date'])\n",
    "\n",
    "mask = (accident_dates > \"2019-12-01\") & (accident_dates <= \"2019-12-31\")\n",
    "s = accident_dates[mask].value_counts()\n",
    "s"
   ]
  },
  {
   "cell_type": "code",
   "execution_count": null,
   "metadata": {},
   "outputs": [],
   "source": []
  },
  {
   "cell_type": "markdown",
   "metadata": {},
   "source": [
    "# Task 2 - Associations\n",
    "### Research whether there is a significant statistical association in your city, either\n",
    "1. between some vehicle attributes and accident circumstances, or \n",
    "2. between some casualty attributes and accident circumstances. \n",
    "\n",
    "Report whether there is a statistically significant association between such variables or not, together with the appropriate statistical metric(s).\n",
    " \n",
    "Discuss why this association, or the lack of\n",
    "this association, is relevant for urban/transport planning."
   ]
  },
  {
   "cell_type": "markdown",
   "metadata": {},
   "source": [
    "# Task 3 - Map visualization\n",
    "Visualize the reported collisions on a map of your city. Make a visual distinction between different\n",
    "classes of casualty severity"
   ]
  },
  {
   "cell_type": "code",
   "execution_count": 55,
   "metadata": {},
   "outputs": [
    {
     "data": {
      "text/plain": [
       "(-1.6684720000000002, -1.330071, 53.315433999999996, 53.4879)"
      ]
     },
     "execution_count": 55,
     "metadata": {},
     "output_type": "execute_result"
    }
   ],
   "source": [
    "BBox = min(sheffield_data[\"accidents\"][\"Longitude\"]), max(sheffield_data[\"accidents\"][\"Longitude\"]), min(sheffield_data[\"accidents\"][\"Latitude\"]),  max(sheffield_data[\"accidents\"][\"Latitude\"])\n",
    "ruh_m = plt.imread('map (3).png')\n",
    "mask_1 = (sheffield_data[\"accidents\"][\"Accident_Severity\"] == 1)\n",
    "mask_2 = (sheffield_data[\"accidents\"][\"Accident_Severity\"] == 2)\n",
    "mask_3 = (sheffield_data[\"accidents\"][\"Accident_Severity\"] == 3)\n",
    "fig, ax = plt.subplots(figsize = (16,14))\n",
    "\n",
    "ax.scatter(sheffield_data[\"accidents\"][\"Longitude\"][mask_1], sheffield_data[\"accidents\"][\"Latitude\"][mask_1], alpha= 0.5, c='r', s=100)\n",
    "ax.scatter(sheffield_data[\"accidents\"][\"Longitude\"][mask_2], sheffield_data[\"accidents\"][\"Latitude\"][mask_2], alpha= 0.5, c='y', s=90)\n",
    "ax.scatter(sheffield_data[\"accidents\"][\"Longitude\"][mask_3], sheffield_data[\"accidents\"][\"Latitude\"][mask_3], alpha= 0.5, c='g', s=80)\n",
    "\n",
    "ax.set_title('Plotting Spatial Data on Riyadh Map')\n",
    "ax.set_xlim(BBox[0],BBox[1])\n",
    "ax.set_ylim(BBox[2],BBox[3])\n",
    "ax.imshow(ruh_m, zorder=0, extent = BBox, aspect= 'equal');"
   ]
  },
  {
   "cell_type": "code",
   "execution_count": null,
   "metadata": {},
   "outputs": [],
   "source": []
  },
  {
   "cell_type": "markdown",
   "metadata": {},
   "source": [
    "# Task 4: Open question\n",
    "Use the data to formulate, motivate, answer, and discuss another research question of your choice.\n",
    "For example, compare your city to the whole UK, or investigate different collision participants (bicycle\n",
    "vs car, bicycle-motored two-wheeler, pedestrian vs car, car vs car,…), or compare the age distribution\n",
    "of casualties to the existing age distribution, or rank/compare how problematic different driver\n",
    "demographics are (young/old male/female),…"
   ]
  },
  {
   "cell_type": "code",
   "execution_count": null,
   "metadata": {},
   "outputs": [],
   "source": []
  }
 ],
 "metadata": {
  "kernelspec": {
   "display_name": "Python 3",
   "language": "python",
   "name": "python3"
  },
  "language_info": {
   "codemirror_mode": {
    "name": "ipython",
    "version": 3
   },
   "file_extension": ".py",
   "mimetype": "text/x-python",
   "name": "python",
   "nbconvert_exporter": "python",
   "pygments_lexer": "ipython3",
   "version": "3.8.5"
  },
  "latex_envs": {
   "LaTeX_envs_menu_present": true,
   "autoclose": false,
   "autocomplete": true,
   "bibliofile": "biblio.bib",
   "cite_by": "apalike",
   "current_citInitial": 1,
   "eqLabelWithNumbers": true,
   "eqNumInitial": 1,
   "hotkeys": {
    "equation": "Ctrl-E",
    "itemize": "Ctrl-I"
   },
   "labels_anchors": false,
   "latex_user_defs": false,
   "report_style_numbering": false,
   "user_envs_cfg": false
  },
  "toc": {
   "base_numbering": 1,
   "nav_menu": {},
   "number_sections": true,
   "sideBar": true,
   "skip_h1_title": false,
   "title_cell": "Table of Contents",
   "title_sidebar": "Contents",
   "toc_cell": false,
   "toc_position": {},
   "toc_section_display": true,
   "toc_window_display": false
  }
 },
 "nbformat": 4,
 "nbformat_minor": 2
}
