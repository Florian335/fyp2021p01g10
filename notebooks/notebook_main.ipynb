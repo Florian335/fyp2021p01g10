{
 "cells": [
  {
   "cell_type": "markdown",
   "metadata": {},
   "source": [
    "# Group 10 - First Year Project \n",
    "### Data Science at ITU \n",
    "## Project 1 - Road collisions analysis 2021 "
   ]
  },
  {
   "cell_type": "markdown",
   "metadata": {},
   "source": [
    "The first project of Data Science's second semester required us to inform various city leaders around the United Kingdom about traffic fatalities and injuries; and give some insight for urban transport planning. This jupyter notebook presents Group 10's exploration of 2019 UK road collision data with complimentary analysis, visualisation and findings with relation to the city of Sheffield.\n"
   ]
  },
  {
   "cell_type": "markdown",
   "metadata": {},
   "source": [
    "# Task 0 - Data filtering and cleaning"
   ]
  },
  {
   "cell_type": "markdown",
   "metadata": {},
   "source": [
    "## Loading data\n",
    "Our first task invovles loading our 3 csv files (downloaded from https://data.gov.uk/dataset/road-accidents-safety-data on the 4th January 2021) into a traversable data structure we can start working with; such as a dictionary. We will then need to start the process of filtering and cleaning our data."
   ]
  },
  {
   "cell_type": "code",
   "execution_count": null,
   "metadata": {},
   "outputs": [],
   "source": [
    "import numpy as np\n",
    "import pandas as pd\n",
    "import missingno as msno\n",
    "import matplotlib.pyplot as plt\n",
    "import math\n",
    "from scipy.stats import chi2_contingency"
   ]
  },
  {
   "cell_type": "code",
   "execution_count": null,
   "metadata": {},
   "outputs": [],
   "source": [
    "raw_data = {}\n",
    "\n",
    "TITLES = ['accidents', 'casualties', 'vehicles'] # Capitalisation is the standard for constants"
   ]
  },
  {
   "cell_type": "markdown",
   "metadata": {},
   "source": [
    "Pandas has a convinient method for reading in csv files and storing the data in a DataFrame structure offers flexibility."
   ]
  },
  {
   "cell_type": "code",
   "execution_count": null,
   "metadata": {},
   "outputs": [],
   "source": [
    "raw_data['accidents'] = pd.read_csv(\"../data/raw/Road Safety Data - Accidents 2019.csv\", dtype = None, encoding='utf-8-sig')\n",
    "raw_data['casualties'] = pd.read_csv(\"../data/raw/Road Safety Data - Casualties 2019.csv\", dtype = None, encoding='utf-8-sig')\n",
    "raw_data['vehicles'] = pd.read_csv(\"../data/raw/Road Safety Data- Vehicles 2019.csv\", dtype = None, encoding='utf-8-sig') # File name missing a space before hyphen "
   ]
  },
  {
   "cell_type": "code",
   "execution_count": null,
   "metadata": {},
   "outputs": [],
   "source": [
    "for TITLE in TITLES:\n",
    "    print(TITLE + \"\\tDataFrame shape: \" + str(raw_data[TITLE].shape))"
   ]
  },
  {
   "cell_type": "markdown",
   "metadata": {},
   "source": [
    " ### Data type insight?    !!! Not finished !!!"
   ]
  },
  {
   "cell_type": "code",
   "execution_count": null,
   "metadata": {},
   "outputs": [],
   "source": [
    "#todo #DO IT FASTER"
   ]
  },
  {
   "cell_type": "markdown",
   "metadata": {},
   "source": [
    "## Locating our city\n",
    "With our data loaded into a dictionary containing DataFrames, we needed to locate the accidents that occured in Sheffield. To do this we made a mask identifying which accidents occured in the local district authority 215, which is the district of Sheffield.\n"
   ]
  },
  {
   "cell_type": "code",
   "execution_count": null,
   "metadata": {},
   "outputs": [],
   "source": [
    "sheffield_mask = (raw_data['accidents'][\"Local_Authority_(District)\"] == 215)"
   ]
  },
  {
   "cell_type": "code",
   "execution_count": null,
   "metadata": {},
   "outputs": [],
   "source": [
    "sheffield_data = {}\n",
    "\n",
    "sheffield_data['accidents'] = raw_data['accidents'][sheffield_mask]\n",
    "\n",
    "# Viewing the first 5 rows in the dataframe\n",
    "sheffield_data['accidents'][:5]"
   ]
  },
  {
   "cell_type": "code",
   "execution_count": null,
   "metadata": {},
   "outputs": [],
   "source": [
    "sheffield_data['accidents'].shape"
   ]
  },
  {
   "cell_type": "markdown",
   "metadata": {},
   "source": [
    "We can now see that there are 909 records of road traffic accidents occuring in Sheffield over 2019. The next step was using the primary key (accident_index) of the accidents to find the accidents in Sheffield that each casualty and vehicle linked to, in order to complete our sheffield_data dictionary."
   ]
  },
  {
   "cell_type": "code",
   "execution_count": null,
   "metadata": {},
   "outputs": [],
   "source": [
    "sheffield_data['accidents'][\"Accident_Index\"][:5]"
   ]
  },
  {
   "cell_type": "code",
   "execution_count": null,
   "metadata": {},
   "outputs": [],
   "source": [
    "for TITLE in TITLES[1:]: \n",
    "    sheffield_data[TITLE] = raw_data[TITLE][raw_data[TITLE]['Accident_Index'\n",
    "                                                           ].isin(sheffield_data[\"accidents\"][\"Accident_Index\"])]"
   ]
  },
  {
   "cell_type": "markdown",
   "metadata": {},
   "source": [
    "We can now find out the number of rows and columns in our Sheffield data set"
   ]
  },
  {
   "cell_type": "code",
   "execution_count": null,
   "metadata": {},
   "outputs": [],
   "source": [
    "for TITLE in TITLES:\n",
    "    print(\"Sheffield \" + TITLE + \"\\tDataFrame shape: \" + str(sheffield_data[TITLE].shape))"
   ]
  },
  {
   "cell_type": "markdown",
   "metadata": {},
   "source": [
    "There is 909 accidents each with 32 attributes.\n",
    "There is 1191 casualties that occured in the 909 accidents each with 16 attributes.\n",
    "There is 1648 vehicles that occured in the 909 accidents each with 23 attributes.\n",
    "\n",
    "This indicates that some accidents involved more than one car, which logically makes sense. If there were a 1:1 ratio between accidents and vehicles, all the vehicles had driven into a object and not caused another vehicle to be part of the accident."
   ]
  },
  {
   "cell_type": "markdown",
   "metadata": {},
   "source": [
    "Creating the data files containing only the data from Sheffield"
   ]
  },
  {
   "cell_type": "code",
   "execution_count": null,
   "metadata": {},
   "outputs": [],
   "source": [
    "sheffield_data[\"accidents\"].to_csv(\"../data/processed/sheffield_accidents.csv\")\n",
    "sheffield_data[\"vehicles\"].to_csv(\"../data/processed/sheffield_vehicles.csv\")\n",
    "sheffield_data[\"casualties\"].to_csv(\"../data/processed/sheffield_casualties.csv\")"
   ]
  },
  {
   "cell_type": "markdown",
   "metadata": {},
   "source": [
    "## Relational data table model \n",
    "In terms of the structure of the three databases or data tables, the accidents table's primary key is used as a foreign key by both the casualties and vehicles data tables, creating a one-to-many link between the accidents and both the casualties and vehicles tables. From this data table structure, we can infer that multiple casualties and vehicles can be involved in a single accident; which makes sense logically."
   ]
  },
  {
   "cell_type": "markdown",
   "metadata": {},
   "source": [
    "## Sanity check\n",
    "Performing a sanity check on our Sheffield road accident data is a critical first step before we can begin to think about further analysing or drawing conclusions from the data. We may also have to sanity check all the data if we wish to draw conclusions therefrom."
   ]
  },
  {
   "cell_type": "code",
   "execution_count": null,
   "metadata": {},
   "outputs": [],
   "source": [
    "#Check for empty strings in categorical fields  \n",
    "#Check for NULL values                          #DONE more efficient method probably possible with michaels method (command line)\n",
    "#Check duplicate records                        #DONE\n",
    "#Check non-linked records in secondary tables   "
   ]
  },
  {
   "cell_type": "markdown",
   "metadata": {},
   "source": [
    "### Checking for null values in our road accident dataset"
   ]
  },
  {
   "cell_type": "code",
   "execution_count": null,
   "metadata": {},
   "outputs": [],
   "source": [
    "flag = False\n",
    "for TITLE in TITLES:\n",
    "    if raw_data[TITLE].isnull().values.any():\n",
    "        for column in list(raw_data[TITLE].columns):\n",
    "            nulls = sum(raw_data[TITLE][column].isnull())\n",
    "            if sum(raw_data[TITLE][column].isnull()):\n",
    "                print(TITLE + \" - \" + column + \"\\t has \" + str(nulls) + \" null values\")\n",
    "                flag = True\n",
    "if not flag: print(\"There are no null values in the dataset\")"
   ]
  },
  {
   "cell_type": "markdown",
   "metadata": {},
   "source": [
    "### Checking for null values in our sheffield dataset"
   ]
  },
  {
   "cell_type": "code",
   "execution_count": null,
   "metadata": {},
   "outputs": [],
   "source": [
    "flag = False\n",
    "for TITLE in TITLES:\n",
    "    if sheffield_data[TITLE].isnull().values.any():\n",
    "        for column in list(sheffield_data[TITLE].columns):\n",
    "            nulls = sum(sheffield_data[TITLE][column].isnull())\n",
    "            if sum(sheffield_data[TITLE][column].isnull()):\n",
    "                print(TITLE + \" - \" + column + \"\\t has \" + str(nulls) + \" null values\")\n",
    "                flag = True\n",
    "if not flag: print(\"There are no null values in the dataset\")"
   ]
  },
  {
   "cell_type": "markdown",
   "metadata": {},
   "source": [
    "### Checking for repeated indexes in our sheffield dataset"
   ]
  },
  {
   "cell_type": "code",
   "execution_count": null,
   "metadata": {},
   "outputs": [],
   "source": [
    "if len(sheffield_data[\"accidents\"][\"Accident_Index\"]) == len((sheffield_data[\"accidents\"][\"Accident_Index\"].unique())):\n",
    "    print(\"No repeated indexes\")\n",
    "else: print(\"Repeated indexes detected\")"
   ]
  },
  {
   "cell_type": "code",
   "execution_count": null,
   "metadata": {},
   "outputs": [],
   "source": [
    "###NOT FULLY WORKING\n",
    "sheffield_data[\"accidents\"].replace(-1, np.nan, inplace=True)\n",
    "missingdata_df = sheffield_data[\"accidents\"].columns[sheffield_data[\"accidents\"].isnull().any()].tolist()\n",
    "msno.matrix(sheffield_data[\"accidents\"][missingdata_df]);"
   ]
  },
  {
   "cell_type": "code",
   "execution_count": null,
   "metadata": {},
   "outputs": [],
   "source": [
    "# ###NOT FULLY WORKING\n",
    "sheffield_data['vehicles'].replace(-1, np.nan, inplace=True)\n",
    "missingdata_df = sheffield_data['vehicles'].columns[sheffield_data['vehicles'].isnull().any()].tolist()\n",
    "msno.matrix(sheffield_data['vehicles'][missingdata_df]);"
   ]
  },
  {
   "cell_type": "code",
   "execution_count": null,
   "metadata": {},
   "outputs": [],
   "source": [
    "###NOT FULLY WORKING\n",
    "sheffield_data['casualties'].replace(-1, np.nan, inplace=True)\n",
    "missingdata_df = sheffield_data['casualties'].columns[sheffield_data['casualties'].isnull().any()].tolist()\n",
    "msno.matrix(sheffield_data['casualties'][missingdata_df]);"
   ]
  },
  {
   "cell_type": "markdown",
   "metadata": {},
   "source": [
    "## Numerical summary"
   ]
  },
  {
   "cell_type": "code",
   "execution_count": null,
   "metadata": {},
   "outputs": [],
   "source": [
    "import matplotlib.pyplot as plt"
   ]
  },
  {
   "cell_type": "markdown",
   "metadata": {},
   "source": [
    "### Five Number Summary "
   ]
  },
  {
   "cell_type": "markdown",
   "metadata": {},
   "source": [
    "### Box Plots"
   ]
  },
  {
   "cell_type": "markdown",
   "metadata": {},
   "source": [
    "#### Number of vehicles in an accident and age of vehicle"
   ]
  },
  {
   "cell_type": "code",
   "execution_count": null,
   "metadata": {},
   "outputs": [],
   "source": [
    "fig, ax = plt.subplots(1, 2, figsize=(15, 5))\n",
    "\n",
    "mask_num_vehicle = (sheffield_data['accidents']['Number_of_Vehicles']>0)\n",
    "NumVehicles = sheffield_data['accidents'][\"Number_of_Vehicles\"][mask_num_vehicle]\n",
    "NumVehicles = NumVehicles.to_frame()\n",
    "NumVehicles.describe(), NumVehicles.boxplot(ax=ax[0]);\n",
    "\n",
    "mask_age_vehicle = (sheffield_data['vehicles']['Age_of_Vehicle']>=0)\n",
    "AgeVehicles = sheffield_data['vehicles']['Age_of_Vehicle'][mask_age_vehicle]\n",
    "AgeVehicles = AgeVehicles.to_frame()\n",
    "AgeVehicles.describe(), AgeVehicles.boxplot(ax=ax[1]);"
   ]
  },
  {
   "cell_type": "markdown",
   "metadata": {},
   "source": [
    "#### Age of driver"
   ]
  },
  {
   "cell_type": "code",
   "execution_count": null,
   "metadata": {},
   "outputs": [],
   "source": [
    "#AGE OF DRIVER\n",
    "mask_age = (sheffield_data['vehicles']['Age_of_Driver']>=16)\n",
    "Age_Driver =  sheffield_data['vehicles'][\"Age_of_Driver\"][mask_age]\n",
    "Age_Driver = Age_Driver.to_frame()\n",
    "Age_Driver.describe(), Age_Driver.boxplot();"
   ]
  },
  {
   "cell_type": "markdown",
   "metadata": {},
   "source": [
    "#### Age of male and female drivers"
   ]
  },
  {
   "cell_type": "code",
   "execution_count": null,
   "metadata": {},
   "outputs": [],
   "source": [
    "fig, ax = plt.subplots(1, 2, figsize=(15, 5))\n",
    "\n",
    "mask_male = (sheffield_data['vehicles']['Sex_of_Driver']==1)\n",
    "Age_MaleDrivers = sheffield_data['vehicles'][\"Age_of_Driver\"][mask_age][mask_male]\n",
    "Age_MaleDrivers = Age_MaleDrivers.to_frame()\n",
    "Age_MaleDrivers.describe(), Age_MaleDrivers.boxplot(ax=ax[0])\n",
    "\n",
    "mask_female = (sheffield_data['vehicles']['Sex_of_Driver']==2)\n",
    "Age_FemaleDrivers = sheffield_data['vehicles'][\"Age_of_Driver\"][mask_age][mask_female]\n",
    "Age_FemaleDrivers = Age_FemaleDrivers.to_frame()\n",
    "Age_FemaleDrivers.describe(), Age_FemaleDrivers.boxplot(ax=ax[1])\n",
    "ax[0].set_ylabel(\"Age\"), ax[1].set_ylabel(\"Age\");"
   ]
  },
  {
   "cell_type": "markdown",
   "metadata": {},
   "source": [
    "#### Age of casualty"
   ]
  },
  {
   "cell_type": "code",
   "execution_count": null,
   "metadata": {},
   "outputs": [],
   "source": [
    "mask_age2 = (sheffield_data['casualties']['Age_of_Casualty']>=0)\n",
    "AgeCasualty = sheffield_data['casualties'][\"Age_of_Casualty\"][mask_age2]\n",
    "AgeCasualty = AgeCasualty.to_frame()\n",
    "\n",
    "AgeCasualty.describe(), AgeCasualty.boxplot();"
   ]
  },
  {
   "cell_type": "markdown",
   "metadata": {},
   "source": [
    "### Frequency Histogram"
   ]
  },
  {
   "cell_type": "code",
   "execution_count": null,
   "metadata": {},
   "outputs": [],
   "source": [
    "fig, ax = plt.subplots(2, 2, figsize=(15, 10))\n",
    "mask = (sheffield_data[\"vehicles\"][\"Age_of_Driver\"] >=0)\n",
    "sheffield_data[\"accidents\"][\"Number_of_Vehicles\"].hist(ax=ax[0,0], bins=20, bottom=0.1,color = 'silver',edgecolor = 'black')\n",
    "sheffield_data[\"accidents\"][\"Speed_limit\"].hist(ax=ax[1,1], bins=7,color = 'silver',edgecolor = 'black');\n",
    "sheffield_data[\"accidents\"][\"Number_of_Casualties\"].hist(ax=ax[0,1], bins=20, bottom=0.1,color = 'silver',edgecolor = 'black')\n",
    "sheffield_data[\"vehicles\"][\"Age_of_Driver\"][mask].hist(ax=ax[1,0], bins=50, bottom=0.1,color = 'silver',edgecolor = 'black')\n",
    "\n",
    "ax[0,0].set_title('Histogram over Number of Vehicles in an accident')\n",
    "ax[1,1].set_title('Histogram over Speed Limit in an accident')\n",
    "ax[0,1].set_title('Histogram over Number of Casualties in an accident')\n",
    "ax[1,0].set_title('Histogram over Age of Driver in an accident')\n",
    "\n",
    "ax[0,0].set_ylabel('Frequency')\n",
    "ax[1,0].set_ylabel('Frequency')\n",
    "ax[0,1].set_ylabel('Frequency')\n",
    "ax[1,1].set_ylabel('Frequency')\n",
    "\n",
    "ax[0,0].set_xlabel('Amount of vehicles')\n",
    "ax[1,1].set_xlabel('Speed Limit')\n",
    "ax[0,1].set_xlabel('Number of Casualties')\n",
    "ax[1,0].set_xlabel('Age of Driver')\n",
    "\n",
    "ax[0,0].set_yscale('log')\n",
    "ax[1,1].set_yscale('log')\n",
    "ax[0,1].set_yscale('log')\n",
    "ax[1,0].set_yscale('log')\n",
    "plt.plot();"
   ]
  },
  {
   "cell_type": "markdown",
   "metadata": {},
   "source": [
    "### Frequency Barplot"
   ]
  },
  {
   "cell_type": "code",
   "execution_count": null,
   "metadata": {},
   "outputs": [],
   "source": [
    "AS_count = sheffield_data[\"accidents\"][\"Accident_Severity\"].value_counts()\n",
    "AS_unq = sheffield_data[\"accidents\"][\"Accident_Severity\"].unique()\n",
    "\n",
    "RT = sheffield_data[\"accidents\"][\"Road_Type\"][(sheffield_data[\"accidents\"][\"Road_Type\"] >0)]\n",
    "RT_count = RT.value_counts()\n",
    "RT_unq = [1,2,3,4,5,6]\n",
    "\n",
    "sex = sheffield_data[\"vehicles\"][\"Sex_of_Driver\"][(sheffield_data[\"vehicles\"][\"Sex_of_Driver\"] >0)]\n",
    "sex_counts = sex.value_counts()\n",
    "sex_unq = sex.unique()\n",
    "\n",
    "CC_counts = sheffield_data[\"casualties\"][\"Casualty_Class\"].value_counts()\n",
    "CC_unq = sheffield_data[\"casualties\"][\"Casualty_Class\"].unique()\n",
    "\n",
    "mask = (sheffield_data[\"vehicles\"][\"1st_Point_of_Impact\"] >= 0)\n",
    "PoI_counts = sheffield_data[\"vehicles\"][\"1st_Point_of_Impact\"][mask].value_counts()\n",
    "PoI_unq = sheffield_data[\"vehicles\"][\"1st_Point_of_Impact\"][mask].unique()\n"
   ]
  },
  {
   "cell_type": "code",
   "execution_count": null,
   "metadata": {},
   "outputs": [],
   "source": [
    "fig, ax = plt.subplots(3, 2, figsize=(15, 15))\n",
    "\n",
    "ax[0,0].set_title(\"Accident Severity Frequency Barplot\")\n",
    "ax[0,0].set_ylabel(\"Frequency\")\n",
    "ax[0,0].bar(sorted(AS_unq), sorted(AS_count), tick_label = [\"Fatal\", \"Serious\", \"Slight\"],color = 'silver',edgecolor = 'black')\n",
    "\n",
    "ax[1,0].set_title(\"Road Type Frequency Barplot\")\n",
    "ax[1,0].set_ylabel(\"Road Type\")\n",
    "ax[1,0].set_xlabel(\"Frequency\")\n",
    "l = [\"Roundabout\", \"One way street\", \"Dual carriageway\",\"Single carriageway\", \"Slip road\", \"Unknown\"]  \n",
    "ax[1,0].barh(sorted(RT_unq), sorted(RT_count), tick_label = l,color = 'silver',edgecolor = 'black')\n",
    "\n",
    "                                                                                                                        \n",
    "\n",
    "\n",
    "ax[0,1].set_title(\"Sex Frequency Barplot\")\n",
    "ax[0,1].set_ylabel(\"Frequency\")\n",
    "ax[0,1].bar(sorted(sex_unq), sex_counts, tick_label = [\"Male\",\"Female\",\"Not Known\"],color = 'silver',edgecolor = 'black')\n",
    "\n",
    "\n",
    "ax[1,1].set_title(\"Casualty Class Frequency Barplot\")\n",
    "ax[1,1].set_ylabel(\"Frequency\")\n",
    "ax[1,1].bar(sorted(CC_unq), CC_counts, tick_label = [\"Driver or rider\", \"Passenger\", \"Pedestrian\"],color = 'silver',edgecolor = 'black')\n",
    "\n",
    "\n",
    "ax[2,0].set_title(\"1st Point of Impact Frequency Barplot\")\n",
    "ax[2,0].set_ylabel(\"Frequency\")\n",
    "ax[2,0].bar(PoI_unq, PoI_counts, tick_label = [\"Did not impact\", \"Front\", \"Back\",\"Offside\", \"Nearside\"], color = 'silver',edgecolor = 'black')\n",
    "\n",
    "\n",
    "field_name = \"Light_Conditions\"\n",
    "field_categories = {1: \"Daylight\", 4: \"Darkness - lights lit\", 5: \"Darkness - lights unlit\", 6: \"Darkness - no lighting\", 7: \"Darkness - lighting unknown\", -1: \"Data missing or out of range\"}\n",
    "\n",
    "ax[2,1].set_title(field_name)\n",
    "ax[2,1].set_ylabel(\"Frequency\")\n",
    "\n",
    "categories, counts = np.unique(sheffield_data[\"accidents\"][field_name], return_counts=True)\n",
    "ax[2,1].set_xticks(range(len(categories)))\n",
    "ax[2,1].set_xticklabels(field_categories.values());\n",
    "\n",
    "ax[2,1].bar(range(len(categories)), counts, color = 'silver',edgecolor = 'black')\n",
    "\n",
    "plt.setp(ax[2,1].get_xticklabels(), rotation=30, ha='right')\n",
    "\n",
    "plt.plot();"
   ]
  },
  {
   "cell_type": "markdown",
   "metadata": {},
   "source": [
    "# Task 1 - Single variable analysis"
   ]
  },
  {
   "cell_type": "markdown",
   "metadata": {},
   "source": [
    "\n",
    "### Report the frequency of road collisions in your city for \n",
    "\n",
    "1. different age groups \n",
    "2. in different times (during the day, the week, or year)\n",
    "3. and for differences in one other condition.\n"
   ]
  },
  {
   "cell_type": "markdown",
   "metadata": {},
   "source": [
    "#### Different age groups"
   ]
  },
  {
   "cell_type": "code",
   "execution_count": null,
   "metadata": {},
   "outputs": [],
   "source": [
    "mask_age = (sheffield_data[\"vehicles\"][\"Age_of_Driver\"] >= 0)\n",
    "AoD = sheffield_data[\"vehicles\"][\"Age_of_Driver\"][mask_age]\n",
    "\n",
    "\n",
    "l = []\n",
    "mask = (sheffield_data[\"vehicles\"][\"Age_of_Driver\"] <20)\n",
    "\n",
    "l.append(AoD[mask].shape[0])\n",
    "mask = (sheffield_data[\"vehicles\"][\"Age_of_Driver\"] >20) & (sheffield_data[\"vehicles\"][\"Age_of_Driver\"] <40)\n",
    "l.append(AoD[mask].shape[0])\n",
    "mask = (sheffield_data[\"vehicles\"][\"Age_of_Driver\"] >40) & (sheffield_data[\"vehicles\"][\"Age_of_Driver\"] <60)\n",
    "l.append(AoD[mask].shape[0])\n",
    "mask = (sheffield_data[\"vehicles\"][\"Age_of_Driver\"] >60) & (sheffield_data[\"vehicles\"][\"Age_of_Driver\"] <80)\n",
    "l.append(AoD[mask].shape[0])\n",
    "mask = (sheffield_data[\"vehicles\"][\"Age_of_Driver\"] >80)\n",
    "l.append(AoD[mask].shape[0])\n",
    "\n",
    "fig = plt.figure(figsize=(15,5))\n",
    "axes = fig.add_axes([0,0,1,1])\n",
    "axes.set_title(\"Frequency of road collisions in Sheffield for different age groups\")\n",
    "axes.set_ylabel(\"Frequency\")\n",
    "interval = [\"<20\",'20-40', '40-60', '60-80', '80+']\n",
    "axes.bar(interval, l,color = 'silver',edgecolor = 'black')\n",
    "\n",
    "for index,value in enumerate(l):\n",
    "    axes.text(index - 0.015, value + 0.05,str(value),ha='center', va='bottom')\n",
    "\n",
    "plt.plot();"
   ]
  },
  {
   "cell_type": "markdown",
   "metadata": {},
   "source": [
    "#### Different times"
   ]
  },
  {
   "cell_type": "markdown",
   "metadata": {},
   "source": [
    "##### Day"
   ]
  },
  {
   "cell_type": "code",
   "execution_count": null,
   "metadata": {
    "code_folding": [
     0
    ]
   },
   "outputs": [],
   "source": [
    "l = [['00:00', '02:00'], \n",
    "     ['02:00', '04:00'], \n",
    "     ['04:00', '06:00'], \n",
    "     ['06:00', '08:00'], \n",
    "     ['08:00', '10:00'], \n",
    "     ['10:00', '12:00'],\n",
    "     ['12:00', '14:00'], \n",
    "     ['14:00', '16:00'], \n",
    "     ['16:00', '18:00'], \n",
    "     ['18:00', '20:00'], \n",
    "     ['20:00', '22:00'],\n",
    "     ['22:00', '24:00']]\n",
    "\n",
    "empty = []\n",
    "for i in range(0,12):\n",
    "    mask = (sheffield_data[\"accidents\"][\"Time\"] < l[i][1]) & (sheffield_data[\"accidents\"][\"Time\"] > l[i][0])\n",
    "    total = len(sheffield_data[\"accidents\"][mask][\"Time\"])\n",
    "    empty.append(total)\n",
    "    \n",
    "fig = plt.figure(figsize=(15,5))\n",
    "axes = fig.add_axes([0,0,1,1])\n",
    "axes.set_title(\"Frequency of road collisions in Sheffield in a 2 hour interval\")\n",
    "axes.set_ylabel(\"Frequency\")\n",
    "interval = [\"00:00-02:00\",'02:00-04:00', '04:00-06:00', '06:00-08:00', '08:00-10:00', '10:00-12:00',\n",
    "                 '12:00-14:00','14:00-16:00', '16:00-18:00', '18:00-20:00', '20:00-22:00', '22:00-24:00']\n",
    "axes.bar(interval, empty,color = 'silver',edgecolor = 'black');\n",
    "for index,value in enumerate(empty):\n",
    "    axes.text(index - 0.015, value + 0.05,str(value),ha='center', va='bottom')"
   ]
  },
  {
   "cell_type": "markdown",
   "metadata": {},
   "source": [
    "##### Week"
   ]
  },
  {
   "cell_type": "code",
   "execution_count": null,
   "metadata": {},
   "outputs": [],
   "source": [
    "week = [\"Monday\", \"Tuesday\", \"Wednesday\",\"Thursday\",\"Friday\", \"Saturday\", \"Sunday\"]\n",
    "unq = sheffield_data[\"accidents\"][\"Day_of_Week\"].unique()\n",
    "count = sheffield_data[\"accidents\"][\"Day_of_Week\"].value_counts()\n",
    "fig = plt.figure(figsize=(8, 5))\n",
    "axes = fig.add_axes([0, 0, 1, 1])\n",
    "axes.set_title(\"Accidents each day from 01/01/2019 to 31/12/2019 in Sheffield\")\n",
    "axes.set_ylabel(\"Total number of accidents\")\n",
    "axes.bar(sorted(unq), count, tick_label = week,color = 'silver',edgecolor = 'black')\n",
    "\n",
    "for index,value in enumerate(count):\n",
    "    axes.text(index + 1 - 0.015, value + 0.05,str(value),ha='center', va='bottom')\n",
    "    \n",
    "\n",
    "plt.plot();"
   ]
  },
  {
   "cell_type": "markdown",
   "metadata": {},
   "source": [
    "##### Year"
   ]
  },
  {
   "cell_type": "code",
   "execution_count": null,
   "metadata": {},
   "outputs": [],
   "source": [
    "list_month = [\n",
    "'January',\n",
    "'February',\n",
    "'March',\n",
    "'April',\n",
    "'May',\n",
    "'June',\n",
    "'July',\n",
    "'August',\n",
    "'September',\n",
    "'October',\n",
    "'November',\n",
    "'December'\n",
    "]\n",
    "accident_severity = sheffield_data['accidents']['Accident_Severity']\n",
    "accident_dates = pd.to_datetime(sheffield_data['accidents']['Date'])\n",
    "a = accident_severity.groupby(accident_dates.dt.month).sum()\n",
    "fig,ax = plt.subplots(figsize = (16,4))\n",
    "a.plot.bar(color = 'silver',edgecolor = 'black',rot = 0)\n",
    "ax.set_title('Monthly Accident Numbers')\n",
    "ax.set_xlabel('Months')\n",
    "ax.set_ylabel('Number of Accidents')\n",
    "ax.set_xticklabels(list_month)\n",
    "for index,value in enumerate(a):\n",
    "    ax.text(index - 0.015, value + 0.05,str(value),ha='center', va='bottom')"
   ]
  },
  {
   "cell_type": "markdown",
   "metadata": {},
   "source": [
    "##### Number of accidents each day   "
   ]
  },
  {
   "cell_type": "code",
   "execution_count": null,
   "metadata": {},
   "outputs": [],
   "source": [
    "#COUNTING THE ACCIDENTS EACH DAY IN EVERY MONTH\n",
    "\n",
    "accident_severity = sheffield_data['accidents']['Accident_Severity']\n",
    "\n",
    "accident_dates = pd.to_datetime(sheffield_data['accidents']['Date'])\n",
    "\n",
    "accident_dates1 = accident_dates.dt.date\n",
    "\n",
    "\n",
    "\n",
    "mask = (accident_dates > \"2019-12-01\") & (accident_dates <= \"2019-12-31\")\n",
    "s = accident_dates1[mask].value_counts()\n",
    "s1 = pd.DataFrame(s)\n",
    "s1.columns = ['Accidents']\n",
    "print(s1.to_markdown(tablefmt = 'github'))"
   ]
  },
  {
   "cell_type": "markdown",
   "metadata": {},
   "source": [
    "##### Monthly Accident Severity"
   ]
  },
  {
   "cell_type": "code",
   "execution_count": null,
   "metadata": {
    "scrolled": true
   },
   "outputs": [],
   "source": [
    "#####MONTHLY SEVERITY 2\n",
    "accident_severity = sheffield_data['accidents']['Accident_Severity']\n",
    "accident_dates = pd.to_datetime(sheffield_data['accidents']['Date'])\n",
    "#accident_severity.groupby(accident_dates.dt.month).count().plot(kind=\"bar\")\n",
    "a = accident_severity.groupby(accident_dates.dt.month)\n",
    "a1 = a.value_counts()\n",
    "\n",
    "fig,ax = plt.subplots(figsize = (16,4))\n",
    "a1.plot.bar(color = 'silver',edgecolor = 'black',rot = 45)\n",
    "ax.set_title('Monthly Accident Severity')\n",
    "ax.set_xlabel('(Month,Accident_Severity)')\n",
    "ax.set_ylabel('Number of Accidents')\n",
    "ax.legend(loc = \"upper left\")\n",
    "for index,value in enumerate(a1):\n",
    "    ax.text(index - 0.015, value + 0.05,str(value),ha='center', va='bottom')"
   ]
  },
  {
   "cell_type": "markdown",
   "metadata": {},
   "source": [
    "# Task 2 - Associations"
   ]
  },
  {
   "cell_type": "markdown",
   "metadata": {},
   "source": [
    "\n",
    "## Research whether there is a significant statistical association in your city, either\n",
    "1. between some vehicle attributes and accident circumstances, or \n",
    "2. between some casualty attributes and accident circumstances. \n",
    "\n",
    "Report whether there is a statistically significant association between such variables or not, together with the appropriate statistical metric(s).\n",
    " \n",
    "Discuss why this association, or the lack of\n",
    "this association, is relevant for urban/transport planning."
   ]
  },
  {
   "cell_type": "markdown",
   "metadata": {},
   "source": [
    "### Speed limit and Accident Severity"
   ]
  },
  {
   "cell_type": "code",
   "execution_count": null,
   "metadata": {},
   "outputs": [],
   "source": [
    "mask = (sheffield_data[\"accidents\"][\"Speed_limit\"] != -1)\n",
    "severityspeed = np.array([sheffield_data[\"accidents\"][\"Speed_limit\"][mask], sheffield_data[\"accidents\"][\"Accident_Severity\"][mask]]).T\n",
    "observed_pd = pd.crosstab(severityspeed[:, 0], severityspeed[:, 1], rownames = [\"Speed limit\"], colnames = [\"Accident Severity\"]) \n",
    "observed_pd_n = pd.crosstab(severityspeed[:, 0], severityspeed[:, 1], rownames = [\"Speed limit\"], colnames = [\"Accident Severity\"], normalize = True) \n",
    "observed = observed_pd.to_numpy()\n",
    "\n",
    "chiVal, pVal, df, expected = chi2_contingency(observed)\n",
    "\n",
    "alpha = 0.05\n",
    "print(\"p value is \" + str(pVal)) \n",
    "if pVal <= alpha: \n",
    "    print('Dependent (reject H0)') \n",
    "else: \n",
    "    print('Independent (H0 holds true)')\n",
    "    \n",
    "N = observed.sum(axis = 1).sum()\n",
    "    \n",
    "V = np.sqrt( (chiVal/N) / (min(observed.shape)-1) )\n",
    "print(\"V: \"+ str(V) + \" a value close to 0 means weak, close to 1 means strong\")\n",
    "#observed_pd"
   ]
  },
  {
   "cell_type": "markdown",
   "metadata": {},
   "source": [
    "Since pVal > 0.1 the association between speed limit and accident severity in Sheffield is not significant. "
   ]
  },
  {
   "cell_type": "code",
   "execution_count": null,
   "metadata": {},
   "outputs": [],
   "source": [
    "fig, axes = plt.subplots(nrows=2, ncols=3, figsize=(12, 6))\n",
    "\n",
    "severity_labels = [\"Fatal\", \"Serious\", \"Slight\"]\n",
    "speed_categories = {20: \"20 MPH\", 30: \"30 MPH\", 40: \"40 MPH\", 50: \"50 MPH\", 60: \"60 MPH\", 70: \"70 MPH\"}\n",
    "x = np.array(list(speed_categories.keys()))\n",
    "\n",
    "for i, ax in enumerate(axes[0]):\n",
    "    ax.plot(x, observed[:,i], 'ro-', label='Observed')\n",
    "    ax.plot(x, expected[:,i], 'bo-', label='Expected')\n",
    "    if i==0: \n",
    "        ax.set_ylabel('Casualties')\n",
    "        ax.legend(loc='best');\n",
    "    ax.set_title(severity_labels[i])\n",
    "    ax.set_xticks(x)\n",
    "    ax.set_xticklabels(list(speed_categories.values()))\n",
    "    fig.autofmt_xdate(rotation=45)\n",
    "\n",
    "for i, ax in enumerate(axes[1]):\n",
    "    ax.plot(x, observed[:,i]/expected[:,i], 'go-')\n",
    "    ax.plot(x, np.ones(x.shape), 'k:')\n",
    "    \n",
    "    if i==0: \n",
    "        ax.set_ylabel('Observed/Expected')\n",
    "    ax.set_xticks(x)\n",
    "    ax.set_xticklabels(list(speed_categories.values()))\n",
    "    fig.autofmt_xdate(rotation=45)"
   ]
  },
  {
   "cell_type": "markdown",
   "metadata": {},
   "source": [
    "### Accident severity and road type"
   ]
  },
  {
   "cell_type": "code",
   "execution_count": null,
   "metadata": {},
   "outputs": [],
   "source": [
    "mask = (sheffield_data[\"accidents\"][\"Road_Type\"] != -1)\n",
    "severityRoad = np.array([sheffield_data[\"accidents\"][\"Road_Type\"][mask], sheffield_data[\"accidents\"][\"Accident_Severity\"][mask]]).T\n",
    "observed_pd = pd.crosstab(severityRoad[:, 0], severityRoad[:, 1], rownames = [\"Road Type\"], colnames = [\"Accident Severity\"]) \n",
    "observed_pd_n = pd.crosstab(severityRoad[:, 0], severityRoad[:, 1], rownames = [\"Road Type\"], colnames = [\"Accident Severity\"], normalize = True) \n",
    "observed = observed_pd.to_numpy()\n",
    "\n",
    "chiVal, pVal, df, expected = chi2_contingency(observed)\n",
    "\n",
    "alpha = 0.05\n",
    "print(\"p value is \" + str(pVal)) \n",
    "if pVal <= alpha: \n",
    "    print('Dependent (reject H0)') \n",
    "else: \n",
    "    print('Independent (H0 holds true)')\n",
    "    \n",
    "N = observed.sum(axis = 1).sum()    \n",
    "\n",
    "V = np.sqrt( (chiVal/N) / (min(observed.shape)-1) )\n",
    "print(\"V: \"+ str(V) + \" a value close to 0 means weak, close to 1 means strong\")\n",
    "#observed_pd"
   ]
  },
  {
   "cell_type": "code",
   "execution_count": null,
   "metadata": {},
   "outputs": [],
   "source": [
    "fig, axes = plt.subplots(nrows=2, ncols=3, figsize=(20, 6))\n",
    "\n",
    "severity_labels = [\"Fatal\", \"Serious\", \"Slight\"]\n",
    "road_categories = {1: \"Roundabout\", 2: \"One way street\", 3: \"Dual carriageway\", 6: \"Single carriageway\", 7: \"Slip road\", 9: \"Unknown\"}\n",
    "x = np.array(list(road_categories.keys()))\n",
    "\n",
    "for i, ax in enumerate(axes[0]):\n",
    "    ax.plot(x, observed[:,i], 'ro-', label='Observed')\n",
    "    ax.plot(x, expected[:,i], 'bo-', label='Expected')\n",
    "    if i==0: \n",
    "        ax.set_ylabel('Accidents')\n",
    "        ax.legend(loc='best');\n",
    "    ax.set_title(severity_labels[i])\n",
    "    ax.set_xticks(x)\n",
    "    ax.set_xticklabels(list(road_categories.values()))\n",
    "    fig.autofmt_xdate(rotation=45)\n",
    "\n",
    "for i, ax in enumerate(axes[1]):\n",
    "    ax.plot(x, observed[:,i]/expected[:,i], 'go-')\n",
    "    ax.plot(x, np.ones(x.shape), 'k:')\n",
    "    \n",
    "    if i==0: \n",
    "        ax.set_ylabel('Observed/Expected')\n",
    "    ax.set_xticks(x)\n",
    "    ax.set_xticklabels(list(road_categories.values()))\n",
    "    fig.autofmt_xdate(rotation=30)"
   ]
  },
  {
   "cell_type": "markdown",
   "metadata": {},
   "source": [
    "### Road Type and Light Conditions"
   ]
  },
  {
   "cell_type": "code",
   "execution_count": null,
   "metadata": {},
   "outputs": [],
   "source": [
    "mask = (sheffield_data[\"accidents\"][\"Road_Type\"] != -1\n",
    "       ) & (sheffield_data[\"accidents\"][\"Light_Conditions\"] != -1\n",
    "       ) & (sheffield_data[\"accidents\"][\"Light_Conditions\"] != 7)\n",
    "lightRoad = np.array([sheffield_data[\"accidents\"][\"Road_Type\"][mask], \n",
    "                      sheffield_data[\"accidents\"][\"Light_Conditions\"][mask]]).T\n",
    "\n",
    "observed_pd = pd.crosstab(lightRoad[:, 0], lightRoad[:, 1], \n",
    "                          rownames = [\"Road Type\"], colnames = [\"Light Conditions\"]) \n",
    "\n",
    "observed_pd_n = pd.crosstab(lightRoad[:, 0], lightRoad[:, 1], \n",
    "                            rownames = [\"Road Type\"], colnames = [\"Light Conditions\"], normalize = True) \n",
    "\n",
    "observed = observed_pd.to_numpy()\n",
    "\n",
    "chiVal, pVal, df, expected = chi2_contingency(observed)\n",
    "\n",
    "alpha = 0.05\n",
    "print(\"p value is \" + str(pVal)) \n",
    "if pVal <= alpha: \n",
    "    print('Dependent (reject H0)') \n",
    "else: \n",
    "    print('Independent (H0 holds true)')\n",
    "    \n",
    "N = observed.sum(axis = 1).sum()    \n",
    "\n",
    "V = np.sqrt( (chiVal/N) / (min(observed.shape)-1) )\n",
    "print(\"V: \"+ str(V) + \" a value close to 0 means weak, close to 1 means strong\")\n",
    "observed_pd"
   ]
  },
  {
   "cell_type": "code",
   "execution_count": null,
   "metadata": {},
   "outputs": [],
   "source": [
    "fig, axes = plt.subplots(nrows=2, ncols=4, figsize=(20, 6))\n",
    "\n",
    "light_labels = [\"Daylight\", \"Darkness - lights lit\", \"Darkness - lights unlit\", \"Darkness - no lighting\", \"Darkness - lighting unknown\"]\n",
    "road_categories = {1: \"Roundabout\", 2: \"One way street\", 3: \"Dual carriageway\", 6: \"Single carriageway\", 7: \"Slip road\", 9: \"Unknown\"}\n",
    "x = np.array(list(road_categories.keys()))\n",
    "\n",
    "for i, ax in enumerate(axes[0]):\n",
    "    ax.plot(x, observed[:,i], 'ro-', label='Observed')\n",
    "    ax.plot(x, expected[:,i], 'bo-', label='Expected')\n",
    "    if i==0: \n",
    "        ax.set_ylabel('Accidents')\n",
    "        ax.legend(loc='best');\n",
    "    ax.set_title(light_labels[i])\n",
    "    ax.set_xticks(x)\n",
    "    ax.set_xticklabels(list(road_categories.values()))\n",
    "    fig.autofmt_xdate(rotation=45)\n",
    "\n",
    "for i, ax in enumerate(axes[1]):\n",
    "    ax.plot(x, observed[:,i]/expected[:,i], 'go-')\n",
    "    ax.plot(x, np.ones(x.shape), 'k:')\n",
    "    \n",
    "    if i==0: \n",
    "        ax.set_ylabel('Observed/Expected')\n",
    "    ax.set_xticks(x)\n",
    "    ax.set_xticklabels(list(road_categories.values()))\n",
    "    fig.autofmt_xdate(rotation=30)\n",
    "    \n"
   ]
  },
  {
   "cell_type": "markdown",
   "metadata": {},
   "source": [
    "# Task 3 - Map visualization\n",
    "Visualize the reported collisions on a map of your city. Make a visual distinction between different\n",
    "classes of casualty severity"
   ]
  },
  {
   "cell_type": "code",
   "execution_count": null,
   "metadata": {},
   "outputs": [],
   "source": [
    "BBox = min(sheffield_data[\"accidents\"][\"Longitude\"]), max(sheffield_data[\"accidents\"][\"Longitude\"]), min(sheffield_data[\"accidents\"][\"Latitude\"]),  max(sheffield_data[\"accidents\"][\"Latitude\"])\n",
    "ruh_m = plt.imread('../map.png')\n",
    "mask_1 = (sheffield_data[\"accidents\"][\"Accident_Severity\"] == 1)\n",
    "mask_2 = (sheffield_data[\"accidents\"][\"Accident_Severity\"] == 2)\n",
    "mask_3 = (sheffield_data[\"accidents\"][\"Accident_Severity\"] == 3)\n",
    "fig, ax = plt.subplots(figsize = (16,14))\n",
    "\n",
    "ax.scatter(sheffield_data[\"accidents\"][\"Longitude\"][mask_1], sheffield_data[\"accidents\"][\"Latitude\"][mask_1], alpha= 0.5, c='r', s=100)\n",
    "ax.scatter(sheffield_data[\"accidents\"][\"Longitude\"][mask_2], sheffield_data[\"accidents\"][\"Latitude\"][mask_2], alpha= 0.5, c='y', s=90)\n",
    "ax.scatter(sheffield_data[\"accidents\"][\"Longitude\"][mask_3], sheffield_data[\"accidents\"][\"Latitude\"][mask_3], alpha= 0.5, c='g', s=80)\n",
    "\n",
    "ax.set_title('Plotting Spatial Data on Riyadh Map')\n",
    "ax.set_xlim(BBox[0],BBox[1])\n",
    "ax.set_ylim(BBox[2],BBox[3])\n",
    "ax.imshow(ruh_m, zorder=0, extent = BBox, aspect= 'equal');"
   ]
  },
  {
   "cell_type": "markdown",
   "metadata": {},
   "source": [
    "# Task 4: Open question\n",
    "Use the data to formulate, motivate, answer, and discuss another research question of your choice.\n",
    "For example, compare your city to the whole UK, or investigate different collision participants (bicycle\n",
    "vs car, bicycle-motored two-wheeler, pedestrian vs car, car vs car,…), or compare the age distribution\n",
    "of casualties to the existing age distribution, or rank/compare how problematic different driver\n",
    "demographics are (young/old male/female),…"
   ]
  },
  {
   "cell_type": "code",
   "execution_count": null,
   "metadata": {},
   "outputs": [],
   "source": []
  }
 ],
 "metadata": {
  "kernelspec": {
   "display_name": "Python 3",
   "language": "python",
   "name": "python3"
  },
  "language_info": {
   "codemirror_mode": {
    "name": "ipython",
    "version": 3
   },
   "file_extension": ".py",
   "mimetype": "text/x-python",
   "name": "python",
   "nbconvert_exporter": "python",
   "pygments_lexer": "ipython3",
   "version": "3.8.3"
  },
  "latex_envs": {
   "LaTeX_envs_menu_present": true,
   "autoclose": false,
   "autocomplete": true,
   "bibliofile": "biblio.bib",
   "cite_by": "apalike",
   "current_citInitial": 1,
   "eqLabelWithNumbers": true,
   "eqNumInitial": 1,
   "hotkeys": {
    "equation": "Ctrl-E",
    "itemize": "Ctrl-I"
   },
   "labels_anchors": false,
   "latex_user_defs": false,
   "report_style_numbering": false,
   "user_envs_cfg": false
  },
  "toc": {
   "base_numbering": 1,
   "nav_menu": {},
   "number_sections": true,
   "sideBar": true,
   "skip_h1_title": false,
   "title_cell": "Table of Contents",
   "title_sidebar": "Contents",
   "toc_cell": false,
   "toc_position": {},
   "toc_section_display": true,
   "toc_window_display": false
  }
 },
 "nbformat": 4,
 "nbformat_minor": 2
}
