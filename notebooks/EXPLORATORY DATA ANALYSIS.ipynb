{
 "cells": [
  {
   "cell_type": "markdown",
   "metadata": {},
   "source": [
    "# TODO LIST\n",
    "\n",
    "Following has to be done prior to 11-02-2021\n",
    "- 5  Numerical or categorical\n",
    "- 6  Sanity check\n",
    "- 7  Five Number Summary\n",
    "- 8  Box Plot\n",
    "- 9  Frequency Histogram"
   ]
  },
  {
   "cell_type": "markdown",
   "metadata": {},
   "source": [
    " # Imports"
   ]
  },
  {
   "cell_type": "code",
   "execution_count": 27,
   "metadata": {},
   "outputs": [],
   "source": [
    "import pandas as pd\n",
    "import os\n",
    "\n",
    "# warnings imported because warnings were getting annoying\n",
    "import warnings\n",
    "warnings.filterwarnings('ignore')"
   ]
  },
  {
   "cell_type": "markdown",
   "metadata": {},
   "source": [
    "# loading the data"
   ]
  },
  {
   "cell_type": "code",
   "execution_count": 30,
   "metadata": {},
   "outputs": [],
   "source": [
    "# loading the files\n",
    "\n",
    "accidents = pd.read_csv(\"First-Year-Project/data/processed/Road Safety Data - Accidents 2019.csv\") \n",
    "vehicle = pd.read_csv(\"First-Year-Project/data/processed/Road Safety Data - Vehicles 2019.csv\")\n",
    "casualty = pd.read_csv(\"First-Year-Project/data/processed/Road Safety Data - Casualties 2019.csv\")\n",
    "\n",
    "\n",
    "\n",
    "# combining the data into one combined dataFrame\n",
    "result = pd.concat([accidents, vehicle, casualty], axis=1)\n",
    "\n",
    "# removing duplicate columns\n",
    "data = result.loc[:,~result.columns.duplicated()]"
   ]
  },
  {
   "cell_type": "markdown",
   "metadata": {},
   "source": [
    "# Dimensions of the data\n",
    "Report the dimensions of the data (number of tables, rows, fields)"
   ]
  },
  {
   "cell_type": "code",
   "execution_count": 40,
   "metadata": {},
   "outputs": [
    {
     "name": "stdout",
     "output_type": "stream",
     "text": [
      "There is a 3 tables:\n",
      "Dimensions of file named:\t accidents:\t  (117536, 32)\n",
      "Dimensions of file named:\t vehicles:\t  (117536, 32)\n",
      "Dimensions of file named:\t casualties:\t  (117536, 32)\n"
     ]
    }
   ],
   "source": [
    "# Dimensions of the data\n",
    "print(\"There is a 3 tables:\")\n",
    "print(\"Dimensions of file named:\\t accidents:\\t \", accidents.shape)\n",
    "print(\"Dimensions of file named:\\t vehicles:\\t \", accidents.shape)\n",
    "print(\"Dimensions of file named:\\t casualties:\\t \", accidents.shape)"
   ]
  },
  {
   "cell_type": "markdown",
   "metadata": {},
   "source": [
    "# Numerical or categorical"
   ]
  },
  {
   "cell_type": "code",
   "execution_count": 41,
   "metadata": {
    "code_folding": [],
    "collapsed": true
   },
   "outputs": [
    {
     "data": {
      "text/plain": [
       "['Accident_Index',\n",
       " 'Location_Easting_OSGR',\n",
       " 'Location_Northing_OSGR',\n",
       " 'Longitude',\n",
       " 'Latitude',\n",
       " 'Police_Force',\n",
       " 'Accident_Severity',\n",
       " 'Number_of_Vehicles',\n",
       " 'Number_of_Casualties',\n",
       " 'Date',\n",
       " 'Day_of_Week',\n",
       " 'Time',\n",
       " 'Local_Authority_(District)',\n",
       " 'Local_Authority_(Highway)',\n",
       " '1st_Road_Class',\n",
       " '1st_Road_Number',\n",
       " 'Road_Type',\n",
       " 'Speed_limit',\n",
       " 'Junction_Detail',\n",
       " 'Junction_Control',\n",
       " '2nd_Road_Class',\n",
       " '2nd_Road_Number',\n",
       " 'Pedestrian_Crossing-Human_Control',\n",
       " 'Pedestrian_Crossing-Physical_Facilities',\n",
       " 'Light_Conditions',\n",
       " 'Weather_Conditions',\n",
       " 'Road_Surface_Conditions',\n",
       " 'Special_Conditions_at_Site',\n",
       " 'Carriageway_Hazards',\n",
       " 'Urban_or_Rural_Area',\n",
       " 'Did_Police_Officer_Attend_Scene_of_Accident',\n",
       " 'LSOA_of_Accident_Location',\n",
       " 'Vehicle_Reference',\n",
       " 'Vehicle_Type',\n",
       " 'Towing_and_Articulation',\n",
       " 'Vehicle_Manoeuvre',\n",
       " 'Vehicle_Location-Restricted_Lane',\n",
       " 'Junction_Location',\n",
       " 'Skidding_and_Overturning',\n",
       " 'Hit_Object_in_Carriageway',\n",
       " 'Vehicle_Leaving_Carriageway',\n",
       " 'Hit_Object_off_Carriageway',\n",
       " '1st_Point_of_Impact',\n",
       " 'Was_Vehicle_Left_Hand_Drive?',\n",
       " 'Journey_Purpose_of_Driver',\n",
       " 'Sex_of_Driver',\n",
       " 'Age_of_Driver',\n",
       " 'Age_Band_of_Driver',\n",
       " 'Engine_Capacity_(CC)',\n",
       " 'Propulsion_Code',\n",
       " 'Age_of_Vehicle',\n",
       " 'Driver_IMD_Decile',\n",
       " 'Driver_Home_Area_Type',\n",
       " 'Vehicle_IMD_Decile',\n",
       " 'Casualty_Reference',\n",
       " 'Casualty_Class',\n",
       " 'Sex_of_Casualty',\n",
       " 'Age_of_Casualty',\n",
       " 'Age_Band_of_Casualty',\n",
       " 'Casualty_Severity',\n",
       " 'Pedestrian_Location',\n",
       " 'Pedestrian_Movement',\n",
       " 'Car_Passenger',\n",
       " 'Bus_or_Coach_Passenger',\n",
       " 'Pedestrian_Road_Maintenance_Worker',\n",
       " 'Casualty_Type',\n",
       " 'Casualty_Home_Area_Type',\n",
       " 'Casualty_IMD_Decile']"
      ]
     },
     "execution_count": 41,
     "metadata": {},
     "output_type": "execute_result"
    }
   ],
   "source": [
    "# TODO\n",
    "list(data.columns)"
   ]
  },
  {
   "cell_type": "markdown",
   "metadata": {},
   "source": [
    "# Sanity check"
   ]
  },
  {
   "cell_type": "code",
   "execution_count": null,
   "metadata": {},
   "outputs": [],
   "source": [
    "# TODO"
   ]
  },
  {
   "cell_type": "markdown",
   "metadata": {},
   "source": [
    "# Five Number Summary"
   ]
  },
  {
   "cell_type": "code",
   "execution_count": null,
   "metadata": {},
   "outputs": [],
   "source": [
    "# TODO"
   ]
  },
  {
   "cell_type": "markdown",
   "metadata": {},
   "source": [
    "# Box Plot"
   ]
  },
  {
   "cell_type": "code",
   "execution_count": null,
   "metadata": {},
   "outputs": [],
   "source": [
    "# TODO"
   ]
  },
  {
   "cell_type": "markdown",
   "metadata": {},
   "source": [
    "# Frequency Histogram"
   ]
  },
  {
   "cell_type": "code",
   "execution_count": null,
   "metadata": {},
   "outputs": [],
   "source": [
    "# TODO"
   ]
  }
 ],
 "metadata": {
  "kernelspec": {
   "display_name": "Python 3",
   "language": "python",
   "name": "python3"
  },
  "language_info": {
   "codemirror_mode": {
    "name": "ipython",
    "version": 3
   },
   "file_extension": ".py",
   "mimetype": "text/x-python",
   "name": "python",
   "nbconvert_exporter": "python",
   "pygments_lexer": "ipython3",
   "version": "3.8.3"
  },
  "latex_envs": {
   "LaTeX_envs_menu_present": true,
   "autoclose": false,
   "autocomplete": true,
   "bibliofile": "biblio.bib",
   "cite_by": "apalike",
   "current_citInitial": 1,
   "eqLabelWithNumbers": true,
   "eqNumInitial": 1,
   "hotkeys": {
    "equation": "Ctrl-E",
    "itemize": "Ctrl-I"
   },
   "labels_anchors": false,
   "latex_user_defs": false,
   "report_style_numbering": false,
   "user_envs_cfg": false
  },
  "toc": {
   "base_numbering": 1,
   "nav_menu": {},
   "number_sections": true,
   "sideBar": true,
   "skip_h1_title": false,
   "title_cell": "Table of Contents",
   "title_sidebar": "Contents",
   "toc_cell": false,
   "toc_position": {},
   "toc_section_display": true,
   "toc_window_display": false
  }
 },
 "nbformat": 4,
 "nbformat_minor": 4
}
